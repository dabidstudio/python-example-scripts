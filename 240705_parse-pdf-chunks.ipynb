{
 "cells": [
  {
   "cell_type": "markdown",
   "metadata": {},
   "source": [
    "## 파이썬으로 PDF 파일 원하는 대로 추출하기\n",
    "\n",
    "\n",
    "샘플문서 : 네이버 2023 사업보고서 (https://www.navercorp.com/investment/irReport)"
   ]
  },
  {
   "cell_type": "code",
   "execution_count": null,
   "metadata": {},
   "outputs": [],
   "source": [
    "## 필요 모듈 다운로드\n",
    "!pip install --upgrade pymupdf\n"
   ]
  },
  {
   "cell_type": "code",
   "execution_count": null,
   "metadata": {},
   "outputs": [],
   "source": [
    "import pymupdf  \n",
    "from typing import List, Tuple, Dict"
   ]
  },
  {
   "cell_type": "code",
   "execution_count": null,
   "metadata": {},
   "outputs": [],
   "source": [
    "# pdf 파일을 열어보기\n",
    "pdf_path = \"네이버_2023_사업보고서.pdf\"\n",
    "\n",
    "doc = pymupdf.open(pdf_path)\n",
    "print(doc)"
   ]
  },
  {
   "cell_type": "code",
   "execution_count": null,
   "metadata": {},
   "outputs": [],
   "source": [
    "## document는 각각의 페이지로 구성된 리스트\n",
    "\n",
    "## 아래를 보면 페이지 수랑 일치함\n",
    "print(len(doc))\n",
    "\n",
    "## 첫페이지는 이렇게 접근 가능함\n",
    "print(doc[0])  "
   ]
  },
  {
   "cell_type": "code",
   "execution_count": null,
   "metadata": {},
   "outputs": [],
   "source": [
    "## 페이지의 정보를 dict 형태로 반환\n",
    "doc[0].get_text(\"dict\")\n",
    "\n",
    "## 기본 페이지정보 (너비(width),높이(height) 너비, 블럭) 등이 있음\n",
    "## 1개의 블럭은 1개의 사각형 영역을 의미\n"
   ]
  },
  {
   "cell_type": "code",
   "execution_count": null,
   "metadata": {},
   "outputs": [],
   "source": [
    "## 기본적으로 1개의 페이지는 여러 블럭으로 나눠어져 있음\n",
    "\n",
    "## 회사의 개요 페이지는 33개 블럭으로 되어있네\n",
    "len(doc[5].get_text(\"dict\")[\"blocks\"])"
   ]
  },
  {
   "cell_type": "code",
   "execution_count": null,
   "metadata": {},
   "outputs": [],
   "source": [
    "## 블럭정보에는 \n",
    "# - number : 블럭번호, 0이면 페이지의 첫번째 블럭)\n",
    "# - type : 블럭타입, 0이면 텍스트, 1이면 이미지\n",
    "# - bbox : 블럭의 경계좌표\n",
    "# - lines : 여러 줄로 이루어진 문단일 경우 여러 개의 줄이 포함된 리스트\n",
    "# 블럭 1개를 자세히 보면 각각의 줄 (line)로 이루어져 있음\n",
    "\n",
    "## 1개의 줄에 그 줄의 텍스트 정보가 나와있음\n",
    "# - text : 실제로 우리가 관심이 있는 텍스트\n",
    "# - font : 글꼴\n",
    "# - size : 글자크기\n",
    "\n",
    "doc[5].get_text(\"dict\")[\"blocks\"][0]"
   ]
  },
  {
   "cell_type": "markdown",
   "metadata": {},
   "source": []
  },
  {
   "cell_type": "code",
   "execution_count": null,
   "metadata": {},
   "outputs": [],
   "source": [
    "## 그래서 우리는 pdf 문서안의 모든 페이지, 모든 블럭, 모든 줄을 돌면서\n",
    "## 모든 텍스트와 폰트크기를 같이 구해서 리스트로 만들어줄 것임\n",
    "\n",
    "## 일단 모든 텍스트를 텍스트 / 폰트크기 조합으로 추출해보기\n",
    "TextBlock = Tuple[str, float]\n",
    "\n",
    "def extract_texts_with_font_size(pdf_path: str) -> List[TextBlock]:\n",
    "    doc = pymupdf.open(pdf_path)\n",
    "    content = []\n",
    "    for page_num in range(len(doc)):\n",
    "        page = doc.load_page(page_num)\n",
    "        blocks = page.get_text(\"dict\")[\"blocks\"]\n",
    "        for block in blocks:\n",
    "            lines = block.get(\"lines\", [])\n",
    "\n",
    "            for line in lines:\n",
    "                for span in line[\"spans\"]:\n",
    "                    text = span[\"text\"]\n",
    "                    size = span[\"size\"]\n",
    "                    content.append((text, size))\n",
    "    \n",
    "    return content\n",
    "result = extract_texts_with_font_size(pdf_path)\n"
   ]
  },
  {
   "cell_type": "code",
   "execution_count": null,
   "metadata": {},
   "outputs": [],
   "source": [
    "for i in result[1000:1100]:\n",
    "  print(i)"
   ]
  },
  {
   "cell_type": "code",
   "execution_count": null,
   "metadata": {},
   "outputs": [],
   "source": [
    "## 소제목이 되는 텍스트의 글자 크기를 확인해보기 => 16인걸 확인했음!\n",
    "\n",
    "some_titles = [\"1. 사업의 개요\", \"2. 주요 제품 및 서비스\"]\n",
    "title_font_sizes = []\n",
    "\n",
    "for text, size in result:\n",
    "        if text in some_titles:\n",
    "            title_font_sizes.append((text, size))\n",
    "print(title_font_sizes)"
   ]
  },
  {
   "cell_type": "code",
   "execution_count": null,
   "metadata": {},
   "outputs": [],
   "source": [
    "## 특정 글자 크기 기준으로 텍스트들을 쪼개는 함수\n",
    "\n",
    "def create_chunks_based_on_font_size(content: List[TextBlock], target_font_size: float) -> List[List[TextBlock]]:\n",
    "    chunks = []  # 텍스트 블록의 청크를 저장할 리스트\n",
    "    current_chunk = []  # 현재 청크를 저장할 임시 리스트\n",
    "\n",
    "    for text_block in content:\n",
    "        text, font_size = text_block\n",
    "\n",
    "        if font_size == target_font_size:\n",
    "            # 대상 글꼴 크기를 가진 텍스트 블록을 찾았습니다.\n",
    "            # 이는 새로운 청크의 시작을 의미합니다.\n",
    "\n",
    "            # 현재 청크에 텍스트 블록이 있으면 저장합니다.\n",
    "            if current_chunk:\n",
    "                chunks.append(current_chunk)\n",
    "            \n",
    "            # 이 텍스트 블록으로 새로운 청크를 시작합니다.\n",
    "            current_chunk = [text_block]\n",
    "        else:\n",
    "            # 이 텍스트 블록은 대상 글꼴 크기를 가지고 있지 않습니다.\n",
    "            # 현재 청크에 추가합니다.\n",
    "            current_chunk.append(text_block)\n",
    "\n",
    "    # 마지막 청크가 비어 있지 않으면 추가합니다.\n",
    "    if current_chunk:\n",
    "        chunks.append(current_chunk)\n",
    "\n",
    "    return chunks\n"
   ]
  },
  {
   "cell_type": "code",
   "execution_count": null,
   "metadata": {},
   "outputs": [],
   "source": [
    "\n",
    "# 테스트용 데이터\n",
    "content = [\n",
    "    (\"제목 1\", 12.0),\n",
    "    (\"내용 1 아래 내용입니다.\", 10.0),\n",
    "    (\"제목 2\", 12.0),\n",
    "    (\"제목 2 아래 내용입니다.\", 10.0),\n",
    "    (\"제목 2 아래 추가 내용입니다.\", 10.0),\n",
    "    (\"제목 3\", 12.0),\n",
    "    (\"제목 3 아래 내용입니다.\", 10.0)\n",
    "]\n",
    "target_font_size = 12.0\n",
    "chunks = create_chunks_based_on_font_size(content, target_font_size)\n",
    "for i, chunk in enumerate(chunks):\n",
    "    print(f\"\\n 청크 {i+1}:\")\n",
    "    for text, size in chunk:\n",
    "        print(f\"  {text} ({size})\")"
   ]
  },
  {
   "cell_type": "code",
   "execution_count": null,
   "metadata": {},
   "outputs": [],
   "source": [
    "## 그대로 사업보고서 데이터에 적용해보기 -> 44개의 덩어리들이 만들어짐\n",
    "\n",
    "chunks = create_chunks_based_on_font_size(result, 16)\n",
    "len(chunks)"
   ]
  },
  {
   "cell_type": "code",
   "execution_count": null,
   "metadata": {},
   "outputs": [],
   "source": [
    "\n",
    "## 이 중에서 특정 제목 기준으로 필터링하기\n",
    "\n",
    "\n",
    "def filter_chunks_by_text_list(chunks: List[List[TextBlock]], delimiter_texts: List[str]) -> List[List[TextBlock]]:\n",
    "    filtered_chunks = []\n",
    "    \n",
    "    for chunk in chunks:\n",
    "        # 청크의 첫 번째 텍스트가 구분자 텍스트 목록의 어느 하나와 일치하는지 확인\n",
    "        if chunk and chunk[0][0] in delimiter_texts:\n",
    "            filtered_chunks.append(chunk)\n",
    "    \n",
    "    return filtered_chunks\n",
    "\n",
    "# 특정 텍스트 목록을 포함하는 청크를 필터링합니다.\n",
    "delimiter_texts = [\"1. 사업의 개요\", \"2. 주요 제품 및 서비스\"]\n",
    "filtered_chunks = filter_chunks_by_text_list(chunks, delimiter_texts)\n",
    "\n",
    "# 필터링된 청크를 출력합니다.\n",
    "for i, chunk in enumerate(filtered_chunks):\n",
    "    print(f\"필터링된 청크 {i+1}:\")\n",
    "    for text, size in chunk:\n",
    "        print(f\"  {text} ({size})\")"
   ]
  },
  {
   "cell_type": "code",
   "execution_count": null,
   "metadata": {},
   "outputs": [],
   "source": [
    "## 주석처리된 특정 텍스트들은 다시한번 지워주기\n",
    "## 보통 주석은 같은 글자 크기인 경우가 많음\n",
    "##   전자공시시스템 dart.fss.or.kr (9.0)\n",
    "\n",
    "def exclude_chunks_based_on_font_size(chunks: List[List[TextBlock]], exclude_font_size: float) -> List[List[TextBlock]]:\n",
    "    \"\"\"특정 글꼴 크기에 따라 청크를 제외합니다.\"\"\"\n",
    "    filtered_chunks = []\n",
    "    \n",
    "    for chunk in chunks:\n",
    "        temp_chunk = []\n",
    "        for text, size in chunk:\n",
    "            # exclude_font_size와 일치하는 글꼴 크기를 가진 텍스트 블록을 건너뜁니다.\n",
    "            if size == exclude_font_size:\n",
    "                continue\n",
    "            temp_chunk.append((text, size))\n",
    "        \n",
    "        # 임시 청크가 비어 있지 않으면 필터링된 청크에 추가합니다.\n",
    "        if temp_chunk:\n",
    "            filtered_chunks.append(temp_chunk)\n",
    "    \n",
    "    return filtered_chunks\n",
    "\n",
    "\n",
    "filtered_chunks_2 = exclude_chunks_based_on_font_size(filtered_chunks,9)\n",
    "\n",
    "# 필터링된 청크를 출력합니다.\n",
    "for i, chunk in enumerate(filtered_chunks_2):\n",
    "    print(f\"필터링된 청크 {i+1}:\")\n",
    "    for text, size in chunk:\n",
    "        print(f\"  {text} ({size})\")"
   ]
  },
  {
   "cell_type": "code",
   "execution_count": null,
   "metadata": {},
   "outputs": [],
   "source": [
    "## 최종 결과 한번 인쇄해보기\n",
    "\n",
    "concatenated_texts = []\n",
    "    \n",
    "for chunk in filtered_chunks_2:\n",
    "    concatenated_text = \"\".join(text for text, _ in chunk)\n",
    "    concatenated_texts.append(concatenated_text)\n",
    "\n",
    "for text in concatenated_texts:\n",
    "    print(text)    "
   ]
  },
  {
   "cell_type": "code",
   "execution_count": null,
   "metadata": {},
   "outputs": [],
   "source": []
  }
 ],
 "metadata": {
  "kernelspec": {
   "display_name": "Python 3",
   "language": "python",
   "name": "python3"
  },
  "language_info": {
   "codemirror_mode": {
    "name": "ipython",
    "version": 3
   },
   "file_extension": ".py",
   "mimetype": "text/x-python",
   "name": "python",
   "nbconvert_exporter": "python",
   "pygments_lexer": "ipython3",
   "version": "3.11.4"
  }
 },
 "nbformat": 4,
 "nbformat_minor": 2
}
